{
 "cells": [
  {
   "cell_type": "code",
   "execution_count": 1,
   "metadata": {
    "pycharm": {
     "name": "#%%\n"
    }
   },
   "outputs": [],
   "source": [
    "import warnings\n",
    "import pandas as pd\n",
    "import tqdm\n",
    "import socceraction.spadl as spadl\n",
    "import socceraction.vaep.features as fs\n",
    "from socceraction.data.statsbomb import StatsBombLoader\n",
    "from markovsoccer.extended_spadl import convert_to_extended_spadl\n",
    "from markovsoccer.team_model import TeamModel\n",
    "warnings.simplefilter(action='ignore', category=pd.errors.PerformanceWarning)\n",
    "warnings.filterwarnings(action=\"ignore\", message=\"credentials were not supplied. open data access only\")"
   ]
  },
  {
   "cell_type": "code",
   "execution_count": 2,
   "metadata": {
    "pycharm": {
     "name": "#%%\n"
    }
   },
   "outputs": [],
   "source": [
    "SBL = StatsBombLoader(getter=\"remote\", creds={\"user\": None, \"passwd\": None})"
   ]
  },
  {
   "cell_type": "code",
   "execution_count": 3,
   "metadata": {
    "pycharm": {
     "name": "#%%\n"
    }
   },
   "outputs": [
    {
     "data": {
      "text/plain": "{'Champions League',\n \"FA Women's Super League\",\n 'FIFA World Cup',\n 'Indian Super league',\n 'La Liga',\n 'NWSL',\n 'Premier League',\n 'UEFA Euro',\n \"UEFA Women's Euro\",\n \"Women's World Cup\"}"
     },
     "execution_count": 3,
     "metadata": {},
     "output_type": "execute_result"
    }
   ],
   "source": [
    "# View all available competitions\n",
    "competitions = SBL.competitions()\n",
    "set(competitions.competition_name)"
   ]
  },
  {
   "cell_type": "code",
   "execution_count": 10,
   "metadata": {
    "pycharm": {
     "name": "#%%\n"
    }
   },
   "outputs": [
    {
     "data": {
      "text/plain": "    season_id  competition_id competition_name   country_name  \\\n18          3              43   FIFA World Cup  International   \n\n   competition_gender season_name  \n18               male        2018  ",
      "text/html": "<div>\n<style scoped>\n    .dataframe tbody tr th:only-of-type {\n        vertical-align: middle;\n    }\n\n    .dataframe tbody tr th {\n        vertical-align: top;\n    }\n\n    .dataframe thead th {\n        text-align: right;\n    }\n</style>\n<table border=\"1\" class=\"dataframe\">\n  <thead>\n    <tr style=\"text-align: right;\">\n      <th></th>\n      <th>season_id</th>\n      <th>competition_id</th>\n      <th>competition_name</th>\n      <th>country_name</th>\n      <th>competition_gender</th>\n      <th>season_name</th>\n    </tr>\n  </thead>\n  <tbody>\n    <tr>\n      <th>18</th>\n      <td>3</td>\n      <td>43</td>\n      <td>FIFA World Cup</td>\n      <td>International</td>\n      <td>male</td>\n      <td>2018</td>\n    </tr>\n  </tbody>\n</table>\n</div>"
     },
     "execution_count": 10,
     "metadata": {},
     "output_type": "execute_result"
    }
   ],
   "source": [
    "# Data of Arsenal during Premier League season 2003/2004 is used. Note: The paper uses data of all teams from the\n",
    "# Premier League season 2019/2020, but this data is not available for free.\n",
    "selected_competitions = competitions[competitions.competition_name == \"FIFA World Cup\"]\n",
    "selected_competitions"
   ]
  },
  {
   "cell_type": "code",
   "execution_count": 11,
   "metadata": {
    "pycharm": {
     "name": "#%%\n"
    }
   },
   "outputs": [
    {
     "data": {
      "text/plain": "    home_team_id  away_team_id           game_date  home_score  away_score\n0            781           795 2018-06-22 14:00:00           2           0\n1            774           783 2018-06-15 14:00:00           0           1\n2            791           794 2018-06-23 17:00:00           1           2\n3            783           799 2018-06-20 17:00:00           1           0\n4            782           798 2018-06-18 17:00:00           3           0\n..           ...           ...                 ...         ...         ...\n59           796           774 2018-06-19 20:00:00           3           1\n60           796           785 2018-07-07 20:00:00           2           2\n61           776           771 2018-06-26 16:00:00           0           0\n62           778           787 2018-06-24 17:00:00           2           2\n63           799           774 2018-06-25 16:00:00           2           1\n\n[64 rows x 5 columns]",
      "text/html": "<div>\n<style scoped>\n    .dataframe tbody tr th:only-of-type {\n        vertical-align: middle;\n    }\n\n    .dataframe tbody tr th {\n        vertical-align: top;\n    }\n\n    .dataframe thead th {\n        text-align: right;\n    }\n</style>\n<table border=\"1\" class=\"dataframe\">\n  <thead>\n    <tr style=\"text-align: right;\">\n      <th></th>\n      <th>home_team_id</th>\n      <th>away_team_id</th>\n      <th>game_date</th>\n      <th>home_score</th>\n      <th>away_score</th>\n    </tr>\n  </thead>\n  <tbody>\n    <tr>\n      <th>0</th>\n      <td>781</td>\n      <td>795</td>\n      <td>2018-06-22 14:00:00</td>\n      <td>2</td>\n      <td>0</td>\n    </tr>\n    <tr>\n      <th>1</th>\n      <td>774</td>\n      <td>783</td>\n      <td>2018-06-15 14:00:00</td>\n      <td>0</td>\n      <td>1</td>\n    </tr>\n    <tr>\n      <th>2</th>\n      <td>791</td>\n      <td>794</td>\n      <td>2018-06-23 17:00:00</td>\n      <td>1</td>\n      <td>2</td>\n    </tr>\n    <tr>\n      <th>3</th>\n      <td>783</td>\n      <td>799</td>\n      <td>2018-06-20 17:00:00</td>\n      <td>1</td>\n      <td>0</td>\n    </tr>\n    <tr>\n      <th>4</th>\n      <td>782</td>\n      <td>798</td>\n      <td>2018-06-18 17:00:00</td>\n      <td>3</td>\n      <td>0</td>\n    </tr>\n    <tr>\n      <th>...</th>\n      <td>...</td>\n      <td>...</td>\n      <td>...</td>\n      <td>...</td>\n      <td>...</td>\n    </tr>\n    <tr>\n      <th>59</th>\n      <td>796</td>\n      <td>774</td>\n      <td>2018-06-19 20:00:00</td>\n      <td>3</td>\n      <td>1</td>\n    </tr>\n    <tr>\n      <th>60</th>\n      <td>796</td>\n      <td>785</td>\n      <td>2018-07-07 20:00:00</td>\n      <td>2</td>\n      <td>2</td>\n    </tr>\n    <tr>\n      <th>61</th>\n      <td>776</td>\n      <td>771</td>\n      <td>2018-06-26 16:00:00</td>\n      <td>0</td>\n      <td>0</td>\n    </tr>\n    <tr>\n      <th>62</th>\n      <td>778</td>\n      <td>787</td>\n      <td>2018-06-24 17:00:00</td>\n      <td>2</td>\n      <td>2</td>\n    </tr>\n    <tr>\n      <th>63</th>\n      <td>799</td>\n      <td>774</td>\n      <td>2018-06-25 16:00:00</td>\n      <td>2</td>\n      <td>1</td>\n    </tr>\n  </tbody>\n</table>\n<p>64 rows × 5 columns</p>\n</div>"
     },
     "execution_count": 11,
     "metadata": {},
     "output_type": "execute_result"
    }
   ],
   "source": [
    "# Get games from all selected competitions\n",
    "games = pd.concat([\n",
    "    SBL.games(row.competition_id, row.season_id)\n",
    "    for row in selected_competitions.itertuples()\n",
    "])\n",
    "games[[\"home_team_id\", \"away_team_id\", \"game_date\", \"home_score\", \"away_score\"]]"
   ]
  },
  {
   "cell_type": "markdown",
   "metadata": {
    "pycharm": {
     "name": "#%% md\n"
    }
   },
   "source": [
    "## Load and convert match data"
   ]
  },
  {
   "cell_type": "code",
   "execution_count": 12,
   "metadata": {
    "pycharm": {
     "name": "#%%\n"
    }
   },
   "outputs": [
    {
     "name": "stderr",
     "output_type": "stream",
     "text": [
      "Loading game data: 100%|██████████| 64/64 [02:22<00:00,  2.22s/it]\n"
     ]
    }
   ],
   "source": [
    "games_verbose = tqdm.tqdm(list(games.itertuples()), desc=\"Loading game data\")\n",
    "teams = []\n",
    "actions = {}\n",
    "for game in games_verbose:\n",
    "    # load data\n",
    "    teams.append(SBL.teams(game.game_id))\n",
    "    events = SBL.events(game.game_id)\n",
    "    # convert data\n",
    "    actions_of_game = spadl.statsbomb.convert_to_actions(events, game.home_team_id)\n",
    "    # resolve team id's\n",
    "    actions_of_game = actions_of_game.merge(SBL.teams(game.game_id), how=\"left\")\\\n",
    "        .reset_index(drop=True)\n",
    "    [actions_of_game] = fs.play_left_to_right([actions_of_game], game.home_team_id)\n",
    "    # convert to extended SPADL\n",
    "    actions[game.game_id] = convert_to_extended_spadl(actions_of_game)\n",
    "\n",
    "teams = pd.concat(teams).drop_duplicates(subset=\"team_id\")"
   ]
  },
  {
   "cell_type": "code",
   "execution_count": 13,
   "metadata": {
    "pycharm": {
     "name": "#%%\n"
    }
   },
   "outputs": [
    {
     "data": {
      "text/plain": "    game_id  period_id       timestamp     team_name  player_id     start_x  \\\n0      7559          1 0 days 00:00:00         Egypt     5252.0   52.058824   \n1      7559          1 0 days 00:00:01         Egypt     3568.0   37.941176   \n2      7559          1 0 days 00:00:01         Egypt     3568.0   37.941176   \n3      7559          1 0 days 00:00:02         Egypt     5250.0   32.647059   \n4      7559          1 0 days 00:00:03         Egypt     5250.0   32.647059   \n5      7559          1 0 days 00:00:05         Egypt     5254.0   20.294118   \n6      7559          1 0 days 00:00:07         Egypt     4063.0   17.647059   \n7      7559          1 0 days 00:00:09         Egypt     4063.0   17.647059   \n8      7559          1 0 days 00:00:10         Egypt     5263.0   26.470588   \n9      7559          1 0 days 00:00:11         Egypt     5263.0   22.941176   \n10     7559          1 0 days 00:00:12         Egypt     4063.0   17.647059   \n11     7559          1 0 days 00:00:13         Egypt     4063.0   15.882353   \n12     7559          1 0 days 00:00:15         Egypt     5254.0    7.058824   \n13     7559          1 0 days 00:00:17         Egypt     5254.0   12.352941   \n14     7559          1 0 days 00:00:19         Egypt     3568.0   27.352941   \n15     7559          1 0 days 00:00:23         Egypt     3568.0   45.000000   \n16     7559          1 0 days 00:00:24         Egypt     5263.0   44.117647   \n17     7559          1 0 days 00:00:26         Egypt     5263.0   42.352941   \n18     7559          1 0 days 00:00:28         Egypt     5252.0   82.058824   \n19     7559          1 0 days 00:00:32         Egypt     5252.0   91.764706   \n20     7559          1 0 days 00:00:32  Saudi Arabia     5191.0   13.235294   \n21     7559          1 0 days 00:00:46         Egypt     5263.0   94.411765   \n22     7559          1 0 days 00:00:47         Egypt     5252.0  100.588235   \n23     7559          1 0 days 00:00:49  Saudi Arabia     5173.0    9.705882   \n24     7559          1 0 days 00:00:49  Saudi Arabia     5173.0    9.705882   \n\n         end_x    start_y      end_y     type_name result_name bodypart_name  \\\n0    37.941176  34.430380  28.405063      kick_off     success          foot   \n1    37.941176  28.405063  30.126582       dribble     success          foot   \n2    32.647059  30.126582   6.025316          pass     success          foot   \n3    32.647059   6.025316   6.886076       dribble     success          foot   \n4    20.294118   6.886076  18.075949          pass     success          foot   \n5    17.647059  18.075949  42.177215          pass     success          foot   \n6    17.647059  42.177215  44.759494       dribble     success          foot   \n7    26.470588  44.759494  65.417722          pass     success          foot   \n8    22.941176  65.417722  64.556962       dribble     success          foot   \n9    17.647059  64.556962  53.367089          pass     success          foot   \n10   15.882353  53.367089  54.227848       dribble     success          foot   \n11    7.058824  54.227848  26.683544          pass     success          foot   \n12   12.352941  26.683544  23.240506       dribble     success          foot   \n13   27.352941  23.240506  18.075949          pass     success          foot   \n14   45.000000  18.075949  27.544304       dribble     success          foot   \n15   44.117647  27.544304  58.531646          pass     success          foot   \n16   42.352941  58.531646  61.974684       dribble     success          foot   \n17   82.058824  61.974684  55.949367          pass     success          foot   \n18   91.764706  55.949367  65.417722       dribble     success          foot   \n19   91.764706  65.417722  65.417722       take_on        fail          foot   \n20   13.235294   2.582278   2.582278        tackle        fail          foot   \n21  101.470588  68.000000  54.227848      throw_in     success          foot   \n22   95.294118  54.227848  52.506329          pass        fail         other   \n23    9.705882  15.493671  15.493671  interception     success          foot   \n24    9.705882  15.493671   8.607595       dribble     success          foot   \n\n    ball_recovery  modelled_possession_sequence  \n0           False                          True  \n1           False                          True  \n2           False                          True  \n3           False                          True  \n4           False                          True  \n5           False                          True  \n6           False                          True  \n7           False                          True  \n8           False                          True  \n9           False                          True  \n10          False                          True  \n11          False                          True  \n12          False                          True  \n13          False                          True  \n14          False                          True  \n15          False                          True  \n16          False                          True  \n17          False                          True  \n18          False                          True  \n19          False                          True  \n20          False                          True  \n21          False                          True  \n22          False                          True  \n23          False                         False  \n24          False                         False  ",
      "text/html": "<div>\n<style scoped>\n    .dataframe tbody tr th:only-of-type {\n        vertical-align: middle;\n    }\n\n    .dataframe tbody tr th {\n        vertical-align: top;\n    }\n\n    .dataframe thead th {\n        text-align: right;\n    }\n</style>\n<table border=\"1\" class=\"dataframe\">\n  <thead>\n    <tr style=\"text-align: right;\">\n      <th></th>\n      <th>game_id</th>\n      <th>period_id</th>\n      <th>timestamp</th>\n      <th>team_name</th>\n      <th>player_id</th>\n      <th>start_x</th>\n      <th>end_x</th>\n      <th>start_y</th>\n      <th>end_y</th>\n      <th>type_name</th>\n      <th>result_name</th>\n      <th>bodypart_name</th>\n      <th>ball_recovery</th>\n      <th>modelled_possession_sequence</th>\n    </tr>\n  </thead>\n  <tbody>\n    <tr>\n      <th>0</th>\n      <td>7559</td>\n      <td>1</td>\n      <td>0 days 00:00:00</td>\n      <td>Egypt</td>\n      <td>5252.0</td>\n      <td>52.058824</td>\n      <td>37.941176</td>\n      <td>34.430380</td>\n      <td>28.405063</td>\n      <td>kick_off</td>\n      <td>success</td>\n      <td>foot</td>\n      <td>False</td>\n      <td>True</td>\n    </tr>\n    <tr>\n      <th>1</th>\n      <td>7559</td>\n      <td>1</td>\n      <td>0 days 00:00:01</td>\n      <td>Egypt</td>\n      <td>3568.0</td>\n      <td>37.941176</td>\n      <td>37.941176</td>\n      <td>28.405063</td>\n      <td>30.126582</td>\n      <td>dribble</td>\n      <td>success</td>\n      <td>foot</td>\n      <td>False</td>\n      <td>True</td>\n    </tr>\n    <tr>\n      <th>2</th>\n      <td>7559</td>\n      <td>1</td>\n      <td>0 days 00:00:01</td>\n      <td>Egypt</td>\n      <td>3568.0</td>\n      <td>37.941176</td>\n      <td>32.647059</td>\n      <td>30.126582</td>\n      <td>6.025316</td>\n      <td>pass</td>\n      <td>success</td>\n      <td>foot</td>\n      <td>False</td>\n      <td>True</td>\n    </tr>\n    <tr>\n      <th>3</th>\n      <td>7559</td>\n      <td>1</td>\n      <td>0 days 00:00:02</td>\n      <td>Egypt</td>\n      <td>5250.0</td>\n      <td>32.647059</td>\n      <td>32.647059</td>\n      <td>6.025316</td>\n      <td>6.886076</td>\n      <td>dribble</td>\n      <td>success</td>\n      <td>foot</td>\n      <td>False</td>\n      <td>True</td>\n    </tr>\n    <tr>\n      <th>4</th>\n      <td>7559</td>\n      <td>1</td>\n      <td>0 days 00:00:03</td>\n      <td>Egypt</td>\n      <td>5250.0</td>\n      <td>32.647059</td>\n      <td>20.294118</td>\n      <td>6.886076</td>\n      <td>18.075949</td>\n      <td>pass</td>\n      <td>success</td>\n      <td>foot</td>\n      <td>False</td>\n      <td>True</td>\n    </tr>\n    <tr>\n      <th>5</th>\n      <td>7559</td>\n      <td>1</td>\n      <td>0 days 00:00:05</td>\n      <td>Egypt</td>\n      <td>5254.0</td>\n      <td>20.294118</td>\n      <td>17.647059</td>\n      <td>18.075949</td>\n      <td>42.177215</td>\n      <td>pass</td>\n      <td>success</td>\n      <td>foot</td>\n      <td>False</td>\n      <td>True</td>\n    </tr>\n    <tr>\n      <th>6</th>\n      <td>7559</td>\n      <td>1</td>\n      <td>0 days 00:00:07</td>\n      <td>Egypt</td>\n      <td>4063.0</td>\n      <td>17.647059</td>\n      <td>17.647059</td>\n      <td>42.177215</td>\n      <td>44.759494</td>\n      <td>dribble</td>\n      <td>success</td>\n      <td>foot</td>\n      <td>False</td>\n      <td>True</td>\n    </tr>\n    <tr>\n      <th>7</th>\n      <td>7559</td>\n      <td>1</td>\n      <td>0 days 00:00:09</td>\n      <td>Egypt</td>\n      <td>4063.0</td>\n      <td>17.647059</td>\n      <td>26.470588</td>\n      <td>44.759494</td>\n      <td>65.417722</td>\n      <td>pass</td>\n      <td>success</td>\n      <td>foot</td>\n      <td>False</td>\n      <td>True</td>\n    </tr>\n    <tr>\n      <th>8</th>\n      <td>7559</td>\n      <td>1</td>\n      <td>0 days 00:00:10</td>\n      <td>Egypt</td>\n      <td>5263.0</td>\n      <td>26.470588</td>\n      <td>22.941176</td>\n      <td>65.417722</td>\n      <td>64.556962</td>\n      <td>dribble</td>\n      <td>success</td>\n      <td>foot</td>\n      <td>False</td>\n      <td>True</td>\n    </tr>\n    <tr>\n      <th>9</th>\n      <td>7559</td>\n      <td>1</td>\n      <td>0 days 00:00:11</td>\n      <td>Egypt</td>\n      <td>5263.0</td>\n      <td>22.941176</td>\n      <td>17.647059</td>\n      <td>64.556962</td>\n      <td>53.367089</td>\n      <td>pass</td>\n      <td>success</td>\n      <td>foot</td>\n      <td>False</td>\n      <td>True</td>\n    </tr>\n    <tr>\n      <th>10</th>\n      <td>7559</td>\n      <td>1</td>\n      <td>0 days 00:00:12</td>\n      <td>Egypt</td>\n      <td>4063.0</td>\n      <td>17.647059</td>\n      <td>15.882353</td>\n      <td>53.367089</td>\n      <td>54.227848</td>\n      <td>dribble</td>\n      <td>success</td>\n      <td>foot</td>\n      <td>False</td>\n      <td>True</td>\n    </tr>\n    <tr>\n      <th>11</th>\n      <td>7559</td>\n      <td>1</td>\n      <td>0 days 00:00:13</td>\n      <td>Egypt</td>\n      <td>4063.0</td>\n      <td>15.882353</td>\n      <td>7.058824</td>\n      <td>54.227848</td>\n      <td>26.683544</td>\n      <td>pass</td>\n      <td>success</td>\n      <td>foot</td>\n      <td>False</td>\n      <td>True</td>\n    </tr>\n    <tr>\n      <th>12</th>\n      <td>7559</td>\n      <td>1</td>\n      <td>0 days 00:00:15</td>\n      <td>Egypt</td>\n      <td>5254.0</td>\n      <td>7.058824</td>\n      <td>12.352941</td>\n      <td>26.683544</td>\n      <td>23.240506</td>\n      <td>dribble</td>\n      <td>success</td>\n      <td>foot</td>\n      <td>False</td>\n      <td>True</td>\n    </tr>\n    <tr>\n      <th>13</th>\n      <td>7559</td>\n      <td>1</td>\n      <td>0 days 00:00:17</td>\n      <td>Egypt</td>\n      <td>5254.0</td>\n      <td>12.352941</td>\n      <td>27.352941</td>\n      <td>23.240506</td>\n      <td>18.075949</td>\n      <td>pass</td>\n      <td>success</td>\n      <td>foot</td>\n      <td>False</td>\n      <td>True</td>\n    </tr>\n    <tr>\n      <th>14</th>\n      <td>7559</td>\n      <td>1</td>\n      <td>0 days 00:00:19</td>\n      <td>Egypt</td>\n      <td>3568.0</td>\n      <td>27.352941</td>\n      <td>45.000000</td>\n      <td>18.075949</td>\n      <td>27.544304</td>\n      <td>dribble</td>\n      <td>success</td>\n      <td>foot</td>\n      <td>False</td>\n      <td>True</td>\n    </tr>\n    <tr>\n      <th>15</th>\n      <td>7559</td>\n      <td>1</td>\n      <td>0 days 00:00:23</td>\n      <td>Egypt</td>\n      <td>3568.0</td>\n      <td>45.000000</td>\n      <td>44.117647</td>\n      <td>27.544304</td>\n      <td>58.531646</td>\n      <td>pass</td>\n      <td>success</td>\n      <td>foot</td>\n      <td>False</td>\n      <td>True</td>\n    </tr>\n    <tr>\n      <th>16</th>\n      <td>7559</td>\n      <td>1</td>\n      <td>0 days 00:00:24</td>\n      <td>Egypt</td>\n      <td>5263.0</td>\n      <td>44.117647</td>\n      <td>42.352941</td>\n      <td>58.531646</td>\n      <td>61.974684</td>\n      <td>dribble</td>\n      <td>success</td>\n      <td>foot</td>\n      <td>False</td>\n      <td>True</td>\n    </tr>\n    <tr>\n      <th>17</th>\n      <td>7559</td>\n      <td>1</td>\n      <td>0 days 00:00:26</td>\n      <td>Egypt</td>\n      <td>5263.0</td>\n      <td>42.352941</td>\n      <td>82.058824</td>\n      <td>61.974684</td>\n      <td>55.949367</td>\n      <td>pass</td>\n      <td>success</td>\n      <td>foot</td>\n      <td>False</td>\n      <td>True</td>\n    </tr>\n    <tr>\n      <th>18</th>\n      <td>7559</td>\n      <td>1</td>\n      <td>0 days 00:00:28</td>\n      <td>Egypt</td>\n      <td>5252.0</td>\n      <td>82.058824</td>\n      <td>91.764706</td>\n      <td>55.949367</td>\n      <td>65.417722</td>\n      <td>dribble</td>\n      <td>success</td>\n      <td>foot</td>\n      <td>False</td>\n      <td>True</td>\n    </tr>\n    <tr>\n      <th>19</th>\n      <td>7559</td>\n      <td>1</td>\n      <td>0 days 00:00:32</td>\n      <td>Egypt</td>\n      <td>5252.0</td>\n      <td>91.764706</td>\n      <td>91.764706</td>\n      <td>65.417722</td>\n      <td>65.417722</td>\n      <td>take_on</td>\n      <td>fail</td>\n      <td>foot</td>\n      <td>False</td>\n      <td>True</td>\n    </tr>\n    <tr>\n      <th>20</th>\n      <td>7559</td>\n      <td>1</td>\n      <td>0 days 00:00:32</td>\n      <td>Saudi Arabia</td>\n      <td>5191.0</td>\n      <td>13.235294</td>\n      <td>13.235294</td>\n      <td>2.582278</td>\n      <td>2.582278</td>\n      <td>tackle</td>\n      <td>fail</td>\n      <td>foot</td>\n      <td>False</td>\n      <td>True</td>\n    </tr>\n    <tr>\n      <th>21</th>\n      <td>7559</td>\n      <td>1</td>\n      <td>0 days 00:00:46</td>\n      <td>Egypt</td>\n      <td>5263.0</td>\n      <td>94.411765</td>\n      <td>101.470588</td>\n      <td>68.000000</td>\n      <td>54.227848</td>\n      <td>throw_in</td>\n      <td>success</td>\n      <td>foot</td>\n      <td>False</td>\n      <td>True</td>\n    </tr>\n    <tr>\n      <th>22</th>\n      <td>7559</td>\n      <td>1</td>\n      <td>0 days 00:00:47</td>\n      <td>Egypt</td>\n      <td>5252.0</td>\n      <td>100.588235</td>\n      <td>95.294118</td>\n      <td>54.227848</td>\n      <td>52.506329</td>\n      <td>pass</td>\n      <td>fail</td>\n      <td>other</td>\n      <td>False</td>\n      <td>True</td>\n    </tr>\n    <tr>\n      <th>23</th>\n      <td>7559</td>\n      <td>1</td>\n      <td>0 days 00:00:49</td>\n      <td>Saudi Arabia</td>\n      <td>5173.0</td>\n      <td>9.705882</td>\n      <td>9.705882</td>\n      <td>15.493671</td>\n      <td>15.493671</td>\n      <td>interception</td>\n      <td>success</td>\n      <td>foot</td>\n      <td>False</td>\n      <td>False</td>\n    </tr>\n    <tr>\n      <th>24</th>\n      <td>7559</td>\n      <td>1</td>\n      <td>0 days 00:00:49</td>\n      <td>Saudi Arabia</td>\n      <td>5173.0</td>\n      <td>9.705882</td>\n      <td>9.705882</td>\n      <td>15.493671</td>\n      <td>8.607595</td>\n      <td>dribble</td>\n      <td>success</td>\n      <td>foot</td>\n      <td>False</td>\n      <td>False</td>\n    </tr>\n  </tbody>\n</table>\n</div>"
     },
     "execution_count": 13,
     "metadata": {},
     "output_type": "execute_result"
    }
   ],
   "source": [
    "# inspect a subset of some of the actions\n",
    "actions[game.game_id][:25]"
   ]
  },
  {
   "cell_type": "markdown",
   "metadata": {
    "pycharm": {
     "name": "#%% md\n"
    }
   },
   "source": [
    "## Build team models"
   ]
  },
  {
   "cell_type": "code",
   "execution_count": 14,
   "metadata": {
    "pycharm": {
     "name": "#%%\n"
    }
   },
   "outputs": [
    {
     "data": {
      "text/plain": "    season_id  competition_id competition_name   country_name  \\\n18          3              43   FIFA World Cup  International   \n\n   competition_gender season_name  \n18               male        2018  ",
      "text/html": "<div>\n<style scoped>\n    .dataframe tbody tr th:only-of-type {\n        vertical-align: middle;\n    }\n\n    .dataframe tbody tr th {\n        vertical-align: top;\n    }\n\n    .dataframe thead th {\n        text-align: right;\n    }\n</style>\n<table border=\"1\" class=\"dataframe\">\n  <thead>\n    <tr style=\"text-align: right;\">\n      <th></th>\n      <th>season_id</th>\n      <th>competition_id</th>\n      <th>competition_name</th>\n      <th>country_name</th>\n      <th>competition_gender</th>\n      <th>season_name</th>\n    </tr>\n  </thead>\n  <tbody>\n    <tr>\n      <th>18</th>\n      <td>3</td>\n      <td>43</td>\n      <td>FIFA World Cup</td>\n      <td>International</td>\n      <td>male</td>\n      <td>2018</td>\n    </tr>\n  </tbody>\n</table>\n</div>"
     },
     "execution_count": 14,
     "metadata": {},
     "output_type": "execute_result"
    }
   ],
   "source": [
    "# indicate minimum number of games a team has to have played for a team model to be built\n",
    "NMIN_GAMES = 5\n",
    "selected_competitions"
   ]
  },
  {
   "cell_type": "code",
   "execution_count": 15,
   "metadata": {
    "pycharm": {
     "name": "#%%\n"
    }
   },
   "outputs": [],
   "source": [
    "for _,team in teams.iterrows():\n",
    "    games_of_team = games[(games['home_team_id'] == team['team_id'])\n",
    "                       | (games['away_team_id'] == team['team_id'])]\n",
    "    if len(games_of_team) >= NMIN_GAMES:\n",
    "        game_ids = games_of_team['game_id'].reset_index(drop=True)\n",
    "        # concatenate all the actions that occurred in the matches that the team has played\n",
    "        A = []\n",
    "        for game_id in game_ids:\n",
    "            A.append(actions[game_id])\n",
    "        A = pd.concat(A)\n",
    "        # build team model\n",
    "        directory = f\"../models/{team['team_name']}.prism\"\n",
    "        team_model = TeamModel.build_from(A, team['team_name'])\n",
    "        team_model.convert_to_prism_file(f\"../models/{team['team_name']}.prism\")"
   ]
  },
  {
   "cell_type": "code",
   "execution_count": null,
   "metadata": {
    "pycharm": {
     "name": "#%%\n"
    }
   },
   "outputs": [],
   "source": []
  }
 ],
 "metadata": {
  "kernelspec": {
   "display_name": "Python 3 (ipykernel)",
   "language": "python",
   "name": "python3"
  },
  "language_info": {
   "codemirror_mode": {
    "name": "ipython",
    "version": 3
   },
   "file_extension": ".py",
   "mimetype": "text/x-python",
   "name": "python",
   "nbconvert_exporter": "python",
   "pygments_lexer": "ipython3",
   "version": "3.9.6"
  }
 },
 "nbformat": 4,
 "nbformat_minor": 1
}