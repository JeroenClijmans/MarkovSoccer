{
 "cells": [
  {
   "cell_type": "markdown",
   "source": [
    "**Note:** This notebook requires [PRISM 4.7](https://www.prismmodelchecker.org/download.php) to be installed and\n",
    "added to your PATH."
   ],
   "metadata": {
    "collapsed": false,
    "pycharm": {
     "name": "#%% md\n"
    }
   }
  },
  {
   "cell_type": "code",
   "execution_count": 1,
   "outputs": [],
   "source": [
    "import matplotlib.pyplot as plt\n",
    "import numpy as np\n",
    "import pandas as pd\n",
    "import scipy\n",
    "import seaborn as sns\n",
    "import tqdm\n",
    "import warnings\n",
    "from sklearn.manifold import TSNE\n",
    "from typing import List\n",
    "from markovsoccer.team_model import TeamModel\n",
    "from markovsoccer.features import SideUsage, SideUsageShot, InwardsOutwardsPreference, SpeedOfPlay, LongBalls, \\\n",
    "    LongGoalKicks, SuccessfulCounterattackProbability, AbilityToCreateShootingOpportunities\n",
    "warnings.simplefilter(action='ignore', category=FutureWarning)"
   ],
   "metadata": {
    "collapsed": false,
    "pycharm": {
     "name": "#%%\n"
    }
   }
  },
  {
   "cell_type": "markdown",
   "source": [
    "## Read Team Models"
   ],
   "metadata": {
    "collapsed": false,
    "pycharm": {
     "name": "#%% md\n"
    }
   }
  },
  {
   "cell_type": "code",
   "execution_count": 2,
   "metadata": {
    "collapsed": true,
    "pycharm": {
     "name": "#%%\n"
    }
   },
   "outputs": [],
   "source": [
    "model_paths = [\n",
    "    \"../models/Belgium.prism\",\n",
    "    \"../models/Brazil.prism\",\n",
    "    \"../models/Croatia.prism\",\n",
    "    \"../models/England.prism\",\n",
    "    \"../models/France.prism\",\n",
    "    \"../models/Russia.prism\",\n",
    "    \"../models/Sweden.prism\",\n",
    "    \"../models/Uruguay.prism\"\n",
    "]\n",
    "models = list(map(TeamModel.read_from, model_paths))\n",
    "team_names = list(map(lambda x: x.team_name, models))"
   ]
  },
  {
   "cell_type": "markdown",
   "source": [
    "## Construct Team Vectors"
   ],
   "metadata": {
    "collapsed": false,
    "pycharm": {
     "name": "#%% md\n"
    }
   }
  },
  {
   "cell_type": "code",
   "execution_count": 3,
   "outputs": [],
   "source": [
    "def construct_team_vector(model: TeamModel):\n",
    "    side_usage = SideUsage.calculate(model)\n",
    "    left, right, center = side_usage['left'], side_usage['right'], side_usage['center']\n",
    "    side_usage_shot = SideUsageShot.calculate(model)\n",
    "    left_shot, right_shot, center_shot = side_usage_shot['left'], side_usage_shot['right'], side_usage_shot['center']\n",
    "    inwards_outwards_preference = InwardsOutwardsPreference.calculate(model)\n",
    "    inwards_preference, outwards_preference = inwards_outwards_preference['inwards'], \\\n",
    "                                              inwards_outwards_preference['outwards']\n",
    "    speed_of_play = SpeedOfPlay.calculate(model)\n",
    "    long_balls_probability = LongBalls.calculate(model)\n",
    "    long_goalkicks_probability = LongGoalKicks.calculate(model)\n",
    "    counterattack_probability = SuccessfulCounterattackProbability.calculate(model)\n",
    "    shooting_ability = AbilityToCreateShootingOpportunities.calculate(model)\n",
    "    return np.array([\n",
    "        left,\n",
    "        right,\n",
    "        center,\n",
    "        left_shot,\n",
    "        right_shot,\n",
    "        center_shot,\n",
    "        inwards_preference,\n",
    "        outwards_preference,\n",
    "        speed_of_play,\n",
    "        long_balls_probability,\n",
    "        long_goalkicks_probability,\n",
    "        counterattack_probability,\n",
    "        shooting_ability\n",
    "    ])"
   ],
   "metadata": {
    "collapsed": false,
    "pycharm": {
     "name": "#%%\n"
    }
   }
  },
  {
   "cell_type": "code",
   "execution_count": 4,
   "outputs": [
    {
     "name": "stderr",
     "output_type": "stream",
     "text": [
      "Constructing team vectors:   0%|          | 0/8 [00:00<?, ?it/s]C:\\Users\\jeroe\\PycharmProjects\\MarkovSoccer\\markovsoccer\\dtmc.py:145: RuntimeWarning: invalid value encountered in double_scalars\n",
      "  R_new[transient_state, absorbing_state_index] = self.R[transient_state, absorbing_state_index] / divisor\n",
      "Constructing team vectors: 100%|██████████| 8/8 [00:13<00:00,  1.69s/it]\n"
     ]
    }
   ],
   "source": [
    "# Ignore the RuntimeWarning: because data of only 5 to 7 matches is used, there is data scarcity in\n",
    "# some rare areas of the pitch. This only has a minor influence on the results.\n",
    "team_vectors = np.zeros((len(models), 13))\n",
    "it_verbose = tqdm.tqdm(range(len(models)), desc=\"Constructing team vectors\")\n",
    "for i in it_verbose:\n",
    "    model = models[i]\n",
    "    team_vectors[i, :] = construct_team_vector(model)"
   ],
   "metadata": {
    "collapsed": false,
    "pycharm": {
     "name": "#%%\n"
    }
   }
  },
  {
   "cell_type": "code",
   "execution_count": 5,
   "outputs": [
    {
     "data": {
      "text/plain": "array([[-0.84134601, -0.36302675,  0.85737614, -0.05718713, -0.31085297,\n         0.41412059, -1.46039784,  0.50702013,  1.22627093, -0.69517431,\n        -1.02267256, -0.40123013,  1.11083375],\n       [ 0.73249919, -1.37662022,  0.90437299,  0.79310097, -0.92858785,\n         0.37041116,  0.39040338,  0.70982818,  0.99102787, -0.96769011,\n        -1.57968179, -0.03847203,  1.87281851],\n       [ 1.45253035, -0.08433578, -0.78670896,  1.73588036, -0.54456287,\n        -0.92531288,  0.27472831, -0.60842415, -0.65741534, -0.51317432,\n        -0.54523608, -0.23096698, -0.55827038],\n       [ 0.26715184, -0.3879326 ,  0.21852015,  0.22416213, -0.07049423,\n        -0.11928877,  1.54715415, -1.41965635,  0.84352696, -0.15052182,\n        -0.34210856, -1.38184176, -0.45860146],\n       [ 0.72555266,  0.90035332, -1.31214483,  0.44705612,  0.79502746,\n        -1.32958384,  0.96877877, -1.62246441,  0.72376165, -0.03159164,\n         0.39516911,  0.73293696,  0.58062329],\n       [-0.64385297,  2.03628096, -1.60075465, -1.73144092,  2.30749282,\n        -1.13567106, -1.34472277,  1.2168483 , -1.30751316,  2.47021654,\n         1.71173638,  1.14454137, -1.24285103],\n       [ 0.20279313, -0.90817955,  0.76440542, -0.47107607, -0.66986536,\n         1.20514035,  0.27472831,  0.60842415, -1.40043614,  0.24815268,\n         0.65848256,  1.50388702, -0.69636229],\n       [-1.89532819,  0.18346063,  0.95493374, -0.94049546, -0.57815699,\n         1.52018445, -0.65067231,  0.60842415, -0.41922277, -0.36021701,\n         0.72431093, -1.32885446, -0.6081904 ]])"
     },
     "execution_count": 5,
     "metadata": {},
     "output_type": "execute_result"
    }
   ],
   "source": [
    "# normalize team vectors\n",
    "normalized_team_vectors = scipy.stats.zscore(team_vectors, axis=0)\n",
    "normalized_team_vectors"
   ],
   "metadata": {
    "collapsed": false,
    "pycharm": {
     "name": "#%%\n"
    }
   }
  },
  {
   "cell_type": "markdown",
   "source": [
    "## Visualize Similar Teams"
   ],
   "metadata": {
    "collapsed": false,
    "pycharm": {
     "name": "#%% md\n"
    }
   }
  },
  {
   "cell_type": "markdown",
   "source": [
    "t-SNE is a method for visualizing high-dimensional data in two or three dimensions. Similar data points are\n",
    "visualized close to each other and dissimilar points are visualized far from each other. Note that the visualizations\n",
    " can differ across runs, but general trends stay equal."
   ],
   "metadata": {
    "collapsed": false,
    "pycharm": {
     "name": "#%% md\n"
    }
   }
  },
  {
   "cell_type": "code",
   "execution_count": 6,
   "outputs": [],
   "source": [
    "def visualize_tsne(team_names: List[str], normalized_team_vectors: np.ndarray):\n",
    "    tsne = TSNE(n_components=2, perplexity=5, n_iter=1000).fit_transform(normalized_team_vectors)\n",
    "    df = pd.DataFrame(tsne, index=team_names, columns=['tsne1', 'tsne2'])\n",
    "    sns.scatterplot(\n",
    "        data=df,\n",
    "        x='tsne1',\n",
    "        y='tsne2',\n",
    "    )\n",
    "    for i in range(df.shape[0]):\n",
    "        plt.text(x=df.tsne1[i] + 0.3, y=df.tsne2[i] + 0.3, s=df.index[i], fontdict=dict(color='black', size=10),\n",
    "                 bbox=dict(alpha=0.25))\n",
    "    plt.xlim(df.tsne1.min() * 1.2, df.tsne1.max() * 1.2)\n",
    "    plt.ylim(df.tsne2.min() * 1.2, df.tsne2.max() * 1.2)\n",
    "    plt.show()"
   ],
   "metadata": {
    "collapsed": false,
    "pycharm": {
     "name": "#%%\n"
    }
   }
  },
  {
   "cell_type": "code",
   "execution_count": 7,
   "outputs": [
    {
     "data": {
      "text/plain": "<Figure size 640x480 with 1 Axes>",
      "image/png": "[encoded data removed]"
     },
     "metadata": {},
     "output_type": "display_data"
    }
   ],
   "source": [
    "visualize_tsne(team_names, normalized_team_vectors)"
   ],
   "metadata": {
    "collapsed": false,
    "pycharm": {
     "name": "#%%\n"
    }
   }
  },
  {
   "cell_type": "markdown",
   "source": [
    "As can be seen on the figure, the clash between France and Belgium in the semi-finals of the FIFA World Cup 2018 was\n",
    "between two teams with a very dissimilar playing style. Indeed, France adopted a defensive playing style at the World\n",
    "Cup while Belgium was much more offensive-minded. Brazil is a similar team to Belgium, also being known for their\n",
    "offensive playing style. England and Croatia hold the middle ground between Belgium and France. Indeed, they weren't\n",
    "particularly offensive or defensive-minded, but adopted a more balanced approach."
   ],
   "metadata": {
    "collapsed": false,
    "pycharm": {
     "name": "#%% md\n"
    }
   }
  }
 ],
 "metadata": {
  "kernelspec": {
   "display_name": "Python 3",
   "language": "python",
   "name": "python3"
  },
  "language_info": {
   "codemirror_mode": {
    "name": "ipython",
    "version": 2
   },
   "file_extension": ".py",
   "mimetype": "text/x-python",
   "name": "python",
   "nbconvert_exporter": "python",
   "pygments_lexer": "ipython2",
   "version": "2.7.6"
  }
 },
 "nbformat": 4,
 "nbformat_minor": 0
}